{
 "cells": [
  {
   "cell_type": "markdown",
   "id": "4e3161c3-55a7-4de4-954d-ff1f12c5fabb",
   "metadata": {},
   "source": [
    "## Instruction"
   ]
  },
  {
   "cell_type": "markdown",
   "id": "67fa9ae1-ada7-40fc-8586-09eb3ef5ec91",
   "metadata": {},
   "source": [
    "1. Collect all type II cyclases (HMMER: https://www.ebi.ac.uk/Tools/hmmer/search/hmmsearch)\n",
    "2. Create sequence similarity network (https://efi.igb.illinois.edu/efi-est/)\n",
    "3. Create genome neighborhood network (https://efi.igb.illinois.edu/efi-gnt/)\n",
    "4. Download Sqlite database\n",
    "5. Export \"attribute\" table to csv (type II cyclase info)\n",
    "6. Export \"neighbor\" table to csv (neighbor info)"
   ]
  },
  {
   "cell_type": "markdown",
   "id": "bb1f6abe-9461-4ce2-b1a6-9243b35365b6",
   "metadata": {},
   "source": [
    "## Preamble"
   ]
  },
  {
   "cell_type": "code",
   "execution_count": null,
   "id": "435ac5e9-0645-4b75-bc5c-f1466efdc79c",
   "metadata": {},
   "outputs": [],
   "source": [
    "import pandas as pd\n",
    "import re\n",
    "import numpy as np\n",
    "import subprocess\n",
    "import glob\n",
    "from subprocess import Popen, PIPE\n",
    "import os\n",
    "\n",
    "from Bio import ExPASy\n",
    "from Bio import SwissProt\n",
    "from Bio.Seq import Seq\n",
    "from Bio.SeqRecord import SeqRecord\n",
    "#from Bio.Alphabet import IUPAC\n",
    "from Bio import SeqIO\n",
    "from Bio import Entrez"
   ]
  },
  {
   "cell_type": "markdown",
   "id": "b329cf79-8f57-4721-9307-f2db86de94a2",
   "metadata": {},
   "source": [
    "## Functions"
   ]
  },
  {
   "cell_type": "code",
   "execution_count": null,
   "id": "afdb6aac-8bdf-4a53-9f86-4df1f1da3aa4",
   "metadata": {},
   "outputs": [],
   "source": [
    "def add_rel_pos(cyclase_table, neighbor_table, neighbor_output, cyclase_output):\n",
    "    '''\n",
    "    input:\n",
    "    cyclase_table: str, path for the csv file with cyclase info (attributes in sqlite)\n",
    "    neighbor_table: str, path for the csv file with neighboring genes info (neighbor in sqlite)\n",
    "    \n",
    "    output:\n",
    "    neighbor_output: str, path for csv file with neighbor + relative position\n",
    "    cyclase_output: str, path for updated cyclase file (- no neighbor cyclase / + gene_key)\n",
    "    '''\n",
    "    ### num column in both dataframe refers to the location number of the gene in a contig\n",
    "    neighbor_df = pd.read_csv(neighbor_table)\n",
    "    typeii_df = pd.read_csv(cyclase_table)\n",
    "\n",
    "    ### additional column for gene position relative to the type II cyclase gene\n",
    "    neighbor_df['rel_pos'] = 0\n",
    "\n",
    "\n",
    "    ### find the location number of ith type II cyclase\n",
    "    ### substract the typeII cyclase location to get the relative position for each gene\n",
    "    ### gene_key in neighbor file = sort_key in cyclase file\n",
    "    for ind, val in typeii_df.iterrows():\n",
    "        typeii_pos = val.num\n",
    "        neighbor_df.loc[neighbor_df['gene_key'] == val.sort_key, 'rel_pos'] = neighbor_df.loc[neighbor_df['gene_key'] == val.sort_key, 'num'] - typeii_pos\n",
    "\n",
    "        \n",
    "    neighbor_df.to_csv(neighbor_output, index = False)\n",
    "    print('...done adding relative positions to cyclases')\n",
    "    \n",
    "    \n",
    "    with_neighbor = set(neighbor_df.gene_key)\n",
    "    typeii_df['gene_key'] = typeii_df.sort_key\n",
    "    typeii_df.loc[typeii_df['gene_key'].isin(with_neighbor)].to_csv(cyclase_output, index = False)\n",
    "    print('...done updating the cyclase file (remove no neighbor cyclases)')"
   ]
  },
  {
   "cell_type": "code",
   "execution_count": null,
   "id": "24efc42d-7fef-4bdb-937e-625744fc71d5",
   "metadata": {},
   "outputs": [],
   "source": [
    "def filter_cluster(neighbor_file, cyclase_file, window, interpro, not_interpro, neighbor_out, cyclase_out, selection, output = False):\n",
    "    '''\n",
    "    input:\n",
    "    neighbor_file: str, path for the neighbor csv file with relative position\n",
    "    cyclase_file: str, path for the cyclase csv file\n",
    "    window: int, window around typeII cyclase to inspect\n",
    "    interpro: list, protein family to include\n",
    "    not_interpro: list, protein family to exclude\n",
    "    neighbor_out: str, path for the csv file name after filtering\n",
    "    cyclase_out: str, path for the csv file name after filtering\n",
    "    selection: str, name for this selection\n",
    "    output: Bool, save the output or not\n",
    "       \n",
    "    output: selected cyclase_file and neighbor_file\n",
    "    '''\n",
    "\n",
    "    neighbor_df = pd.read_csv(neighbor_file, index_col = 'sort_key')\n",
    "    potential_cluster = set()\n",
    "\n",
    "    ### extract dataframe within the window from typeII_cyclase\n",
    "    sele = neighbor_df.loc[np.abs(neighbor_df['rel_pos']) <= window]\n",
    "\n",
    "    interpro_match = sele.loc[(sele['ipro_family'].str.contains('|'.join(interpro)) == True)&\n",
    "                                (sele['ipro_family'].str.contains('|'.join(not_interpro)) == False)]\n",
    "       \n",
    "    potential_cluster = list(set(interpro_match.gene_key))\n",
    "    print(f'{cyclase_file}: selection based on {selection}, window {str(window)}: {str(len(potential_cluster))} loci')\n",
    "\n",
    "    if output:\n",
    "        typeii_df = pd.read_csv(cyclase_file, index_col = 'sort_key')\n",
    "        typeii_df.loc[typeii_df['gene_key'].isin(potential_cluster)].to_csv(cyclase_out)\n",
    "        \n",
    "        neighbor_df.loc[neighbor_df['gene_key'].isin(potential_cluster)].to_csv(neighbor_out)"
   ]
  },
  {
   "cell_type": "code",
   "execution_count": null,
   "id": "a242ad2b-c115-421e-b94a-98d84b5d94b9",
   "metadata": {},
   "outputs": [],
   "source": [
    "def select_P450(neighbor_table, distance, outfile = ''):\n",
    "    '''\n",
    "       neighbor_table: str, path for the neighbor csv file after selection\n",
    "       distance: int, how far a P450 from type II cyclase will be included\n",
    "       outfile: str, path for the output csv file. If outfile = '', do not save output\n",
    "    '''\n",
    "    \n",
    "    neighbor = pd.read_csv(neighbor_table)\n",
    "    p450 = neighbor.loc[(neighbor['ipro_family'].str.contains('IPR036396')) \n",
    "                           & (np.abs(neighbor['rel_pos']) <= distance)]\n",
    "    \n",
    "    print(f'{str(len(p450))} P450s were found at distance {str(distance)}')\n",
    "    \n",
    "    if outfile != '':\n",
    "        p450['accession'].to_csv(f'P450_list.txt', index = False) ## for SSN\n",
    "        p450[['sort_key','accession','id','seq_len','gene_key','rel_pos','cyclase_accession','cluster_num','organism']].to_csv(\n",
    "             outfile, index = False) "
   ]
  },
  {
   "cell_type": "markdown",
   "id": "cb74a032-c984-4afd-83b4-491b4d3024ee",
   "metadata": {},
   "source": [
    "## Processing data"
   ]
  },
  {
   "cell_type": "markdown",
   "id": "6100577e-d4a7-42d3-83e9-463823f94962",
   "metadata": {},
   "source": [
    "#### 1. add relative position of each neighboring genes to the type II cyclases"
   ]
  },
  {
   "cell_type": "code",
   "execution_count": null,
   "id": "d6d3f6ef-a84c-4b1c-94b3-370068e7843c",
   "metadata": {},
   "outputs": [],
   "source": [
    "add_rel_pos('raw/cyclase_GNN_attribute.csv',    ### csv with type II cyclase info\n",
    "            'raw/neighbor_GNN.csv',             ### csv with neighboring genes info\n",
    "            'neighbor_pos.csv',                 ### output file: neighboring genes + relative position to cyclase\n",
    "            'cyclase_key.csv')                  ### output file: cyclase + updated gene_key"
   ]
  },
  {
   "cell_type": "markdown",
   "id": "c910e1af-24de-4049-aa53-9c6d83dbef5e",
   "metadata": {},
   "source": [
    "#### 2. Find genomic loci with type I cyclase close to type II cyclases"
   ]
  },
  {
   "cell_type": "code",
   "execution_count": null,
   "id": "f2b0d6cf-58f8-4299-a17d-2c337b9c156c",
   "metadata": {},
   "outputs": [],
   "source": [
    "typeI_interpro = ['IPR008949', 'IPR034686', 'IPR000537', 'IPR036424', 'IPR005630']\n",
    "poly_interpro = ['IPR000092']  ## polyprenyl synthases have both IPR008949/IPR000092\n",
    "\n",
    "filter_cluster(neighbor_file = 'neighbor_pos.csv',                # neighbor csv file with relative position\n",
    "               cyclase_file = 'cyclase_key.csv',                  # cyclase csv file\n",
    "               window = 5,                                        # inspection window\n",
    "               interpro = typeI_interpro,                         # protein family to include\n",
    "               not_interpro = poly_interpro,                      # protein family to exclude\n",
    "               neighbor_out = 'neighbor_sele_typeI.csv',          # output neighbor file\n",
    "               cyclase_out = 'cyclase_sele_typeI.csv',            # output cyclase file\n",
    "               selection = 'typeI',                               # selection name\n",
    "               output = True)                                     # output the result or not"
   ]
  },
  {
   "cell_type": "markdown",
   "id": "a44d3f2c-5b13-44e4-acf0-d6f338098b7e",
   "metadata": {},
   "source": [
    "#### 3. Find genomic loci with hopanoid biosynthetic genes"
   ]
  },
  {
   "cell_type": "code",
   "execution_count": null,
   "id": "61e13274-afb2-46a7-a8d6-8c00e9a3e852",
   "metadata": {},
   "outputs": [],
   "source": [
    "hopanoid_interpro = ['IPR017827', 'IPR002060', 'IPR033904', 'IPR017828', 'IPR019845', 'IPR017830']\n",
    "\n",
    "filter_cluster(neighbor_file = 'neighbor_sele_typeI.csv', # neighbor csv file after type I selection\n",
    "               cyclase_file = 'cyclase_sele_typeI.csv',   # cyclase csv file after type I selection\n",
    "               window = 10,                               # inspection window\n",
    "               interpro = hopanoid_interpro,              # protein family to include\n",
    "               not_interpro = ['IPR999999'],              # protein family to exclude (IPR999999 is a decoy)\n",
    "               neighbor_out = 'neighbor_sele_hop.csv',  # output neighbor file\n",
    "               cyclase_out = 'cyclase_sele_hop.csv',    # output cyclase file\n",
    "               selection = 'hopanoid',                    # selection name\n",
    "               output = True)                             # output the result or not"
   ]
  },
  {
   "cell_type": "markdown",
   "id": "fca65f07-4477-4056-a96f-34bd4dbb5afa",
   "metadata": {},
   "source": [
    "#### 4. loci from 2. - loci from 3."
   ]
  },
  {
   "cell_type": "code",
   "execution_count": null,
   "id": "ce1e679a-d149-48fb-bed4-a75908c0436a",
   "metadata": {},
   "outputs": [],
   "source": [
    "hop_key = pd.read_csv('cyclase_sele_hop.csv').gene_key\n",
    "\n",
    "cyclase = pd.read_csv('cyclase_sele_typeI.csv', index_col = 'sort_key')\n",
    "neighbor = pd.read_csv('neighbor_sele_typeI.csv', index_col = 'sort_key')\n",
    "\n",
    "cyclase_final = cyclase.loc[(cyclase['gene_key'].isin(hop_key)) == False]\n",
    "\n",
    "## Add cyclase accession number and cluster number (in the network file) to the neighbors\n",
    "   \n",
    "for ind, val in cyclase_final.iterrows():\n",
    "    neighbor_final.loc[neighbor_final.gene_key == val.gene_key, 'cyclase_accession'] = val.accession\n",
    "    neighbor_final.loc[neighbor_final.gene_key == val.gene_key, 'cluster_num'] = val.cluster_num\n",
    "    neighbor_final.loc[neighbor_final.gene_key == val.gene_key, 'organism'] = val.organism\n",
    "    \n",
    "\n",
    "neighbor_final = neighbor_final.loc[(neighbor['gene_key'].isin(hop_key)) == False]\n",
    "cyclase_final.to_csv('cyclase_sele_final.csv')\n",
    "neighbor_final.to_csv('neighbor_sele_final.csv')\n",
    "\n",
    "print(f'final selection has {len(cyclase_final)} loci (gene clusters)')"
   ]
  },
  {
   "cell_type": "markdown",
   "id": "0339765c-fc8f-4a0c-b8b2-f5f1e036ad54",
   "metadata": {},
   "source": [
    "#### 5. Find P450s from the loci identified in 4."
   ]
  },
  {
   "cell_type": "code",
   "execution_count": null,
   "id": "357dc1ac-fe23-42cf-b6be-64b16d8c7839",
   "metadata": {},
   "outputs": [],
   "source": [
    "select_P450('neighbor_sele_final.csv', 10, outfile = 'P450_final2.csv')"
   ]
  }
 ],
 "metadata": {
  "kernelspec": {
   "display_name": "Python 3 (ipykernel)",
   "language": "python",
   "name": "python3"
  },
  "language_info": {
   "codemirror_mode": {
    "name": "ipython",
    "version": 3
   },
   "file_extension": ".py",
   "mimetype": "text/x-python",
   "name": "python",
   "nbconvert_exporter": "python",
   "pygments_lexer": "ipython3",
   "version": "3.9.7"
  }
 },
 "nbformat": 4,
 "nbformat_minor": 5
}
